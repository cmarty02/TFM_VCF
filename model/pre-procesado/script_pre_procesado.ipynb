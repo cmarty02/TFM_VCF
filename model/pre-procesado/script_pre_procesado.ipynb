{
  "nbformat": 4,
  "nbformat_minor": 0,
  "metadata": {
    "colab": {
      "provenance": []
    },
    "kernelspec": {
      "name": "python3",
      "display_name": "Python 3"
    },
    "language_info": {
      "name": "python"
    }
  },
  "cells": [
    {
      "cell_type": "markdown",
      "source": [
        "IMPORTACIONES"
      ],
      "metadata": {
        "id": "SxxganXEUqjZ"
      }
    },
    {
      "cell_type": "code",
      "source": [
        "!pip install pandas openpyxl tensorflow keras\n",
        "#Conexión a Colab\n",
        "from google.colab import drive\n",
        "drive.mount('/content/drive')"
      ],
      "metadata": {
        "colab": {
          "base_uri": "https://localhost:8080/"
        },
        "id": "zzjt-_RyAcMq",
        "outputId": "35bf9ecd-b379-4eef-94fc-aa9b686095b2"
      },
      "execution_count": 1,
      "outputs": [
        {
          "output_type": "stream",
          "name": "stdout",
          "text": [
            "Requirement already satisfied: pandas in /usr/local/lib/python3.10/dist-packages (2.1.4)\n",
            "Requirement already satisfied: openpyxl in /usr/local/lib/python3.10/dist-packages (3.1.5)\n",
            "Requirement already satisfied: tensorflow in /usr/local/lib/python3.10/dist-packages (2.17.0)\n",
            "Requirement already satisfied: keras in /usr/local/lib/python3.10/dist-packages (3.4.1)\n",
            "Requirement already satisfied: numpy<2,>=1.22.4 in /usr/local/lib/python3.10/dist-packages (from pandas) (1.26.4)\n",
            "Requirement already satisfied: python-dateutil>=2.8.2 in /usr/local/lib/python3.10/dist-packages (from pandas) (2.8.2)\n",
            "Requirement already satisfied: pytz>=2020.1 in /usr/local/lib/python3.10/dist-packages (from pandas) (2024.1)\n",
            "Requirement already satisfied: tzdata>=2022.1 in /usr/local/lib/python3.10/dist-packages (from pandas) (2024.1)\n",
            "Requirement already satisfied: et-xmlfile in /usr/local/lib/python3.10/dist-packages (from openpyxl) (1.1.0)\n",
            "Requirement already satisfied: absl-py>=1.0.0 in /usr/local/lib/python3.10/dist-packages (from tensorflow) (1.4.0)\n",
            "Requirement already satisfied: astunparse>=1.6.0 in /usr/local/lib/python3.10/dist-packages (from tensorflow) (1.6.3)\n",
            "Requirement already satisfied: flatbuffers>=24.3.25 in /usr/local/lib/python3.10/dist-packages (from tensorflow) (24.3.25)\n",
            "Requirement already satisfied: gast!=0.5.0,!=0.5.1,!=0.5.2,>=0.2.1 in /usr/local/lib/python3.10/dist-packages (from tensorflow) (0.6.0)\n",
            "Requirement already satisfied: google-pasta>=0.1.1 in /usr/local/lib/python3.10/dist-packages (from tensorflow) (0.2.0)\n",
            "Requirement already satisfied: h5py>=3.10.0 in /usr/local/lib/python3.10/dist-packages (from tensorflow) (3.11.0)\n",
            "Requirement already satisfied: libclang>=13.0.0 in /usr/local/lib/python3.10/dist-packages (from tensorflow) (18.1.1)\n",
            "Requirement already satisfied: ml-dtypes<0.5.0,>=0.3.1 in /usr/local/lib/python3.10/dist-packages (from tensorflow) (0.4.0)\n",
            "Requirement already satisfied: opt-einsum>=2.3.2 in /usr/local/lib/python3.10/dist-packages (from tensorflow) (3.3.0)\n",
            "Requirement already satisfied: packaging in /usr/local/lib/python3.10/dist-packages (from tensorflow) (24.1)\n",
            "Requirement already satisfied: protobuf!=4.21.0,!=4.21.1,!=4.21.2,!=4.21.3,!=4.21.4,!=4.21.5,<5.0.0dev,>=3.20.3 in /usr/local/lib/python3.10/dist-packages (from tensorflow) (3.20.3)\n",
            "Requirement already satisfied: requests<3,>=2.21.0 in /usr/local/lib/python3.10/dist-packages (from tensorflow) (2.32.3)\n",
            "Requirement already satisfied: setuptools in /usr/local/lib/python3.10/dist-packages (from tensorflow) (71.0.4)\n",
            "Requirement already satisfied: six>=1.12.0 in /usr/local/lib/python3.10/dist-packages (from tensorflow) (1.16.0)\n",
            "Requirement already satisfied: termcolor>=1.1.0 in /usr/local/lib/python3.10/dist-packages (from tensorflow) (2.4.0)\n",
            "Requirement already satisfied: typing-extensions>=3.6.6 in /usr/local/lib/python3.10/dist-packages (from tensorflow) (4.12.2)\n",
            "Requirement already satisfied: wrapt>=1.11.0 in /usr/local/lib/python3.10/dist-packages (from tensorflow) (1.16.0)\n",
            "Requirement already satisfied: grpcio<2.0,>=1.24.3 in /usr/local/lib/python3.10/dist-packages (from tensorflow) (1.64.1)\n",
            "Requirement already satisfied: tensorboard<2.18,>=2.17 in /usr/local/lib/python3.10/dist-packages (from tensorflow) (2.17.0)\n",
            "Requirement already satisfied: tensorflow-io-gcs-filesystem>=0.23.1 in /usr/local/lib/python3.10/dist-packages (from tensorflow) (0.37.1)\n",
            "Requirement already satisfied: rich in /usr/local/lib/python3.10/dist-packages (from keras) (13.7.1)\n",
            "Requirement already satisfied: namex in /usr/local/lib/python3.10/dist-packages (from keras) (0.0.8)\n",
            "Requirement already satisfied: optree in /usr/local/lib/python3.10/dist-packages (from keras) (0.12.1)\n",
            "Requirement already satisfied: wheel<1.0,>=0.23.0 in /usr/local/lib/python3.10/dist-packages (from astunparse>=1.6.0->tensorflow) (0.44.0)\n",
            "Requirement already satisfied: charset-normalizer<4,>=2 in /usr/local/lib/python3.10/dist-packages (from requests<3,>=2.21.0->tensorflow) (3.3.2)\n",
            "Requirement already satisfied: idna<4,>=2.5 in /usr/local/lib/python3.10/dist-packages (from requests<3,>=2.21.0->tensorflow) (3.7)\n",
            "Requirement already satisfied: urllib3<3,>=1.21.1 in /usr/local/lib/python3.10/dist-packages (from requests<3,>=2.21.0->tensorflow) (2.0.7)\n",
            "Requirement already satisfied: certifi>=2017.4.17 in /usr/local/lib/python3.10/dist-packages (from requests<3,>=2.21.0->tensorflow) (2024.7.4)\n",
            "Requirement already satisfied: markdown>=2.6.8 in /usr/local/lib/python3.10/dist-packages (from tensorboard<2.18,>=2.17->tensorflow) (3.6)\n",
            "Requirement already satisfied: tensorboard-data-server<0.8.0,>=0.7.0 in /usr/local/lib/python3.10/dist-packages (from tensorboard<2.18,>=2.17->tensorflow) (0.7.2)\n",
            "Requirement already satisfied: werkzeug>=1.0.1 in /usr/local/lib/python3.10/dist-packages (from tensorboard<2.18,>=2.17->tensorflow) (3.0.3)\n",
            "Requirement already satisfied: markdown-it-py>=2.2.0 in /usr/local/lib/python3.10/dist-packages (from rich->keras) (3.0.0)\n",
            "Requirement already satisfied: pygments<3.0.0,>=2.13.0 in /usr/local/lib/python3.10/dist-packages (from rich->keras) (2.16.1)\n",
            "Requirement already satisfied: mdurl~=0.1 in /usr/local/lib/python3.10/dist-packages (from markdown-it-py>=2.2.0->rich->keras) (0.1.2)\n",
            "Requirement already satisfied: MarkupSafe>=2.1.1 in /usr/local/lib/python3.10/dist-packages (from werkzeug>=1.0.1->tensorboard<2.18,>=2.17->tensorflow) (2.1.5)\n",
            "Mounted at /content/drive\n"
          ]
        }
      ]
    },
    {
      "cell_type": "markdown",
      "source": [
        "LECTURA DEL EXCEL DE TRAIN Y PRE-PROCESADO EN MODELO DE CLASIFICACIÓN"
      ],
      "metadata": {
        "id": "XClgnwqsbgvW"
      }
    },
    {
      "cell_type": "code",
      "source": [
        "import pandas as pd\n",
        "from sklearn.preprocessing import LabelEncoder, MinMaxScaler\n",
        "\n",
        "# Cargar datos desde el archivo Excel\n",
        "df_football = pd.read_excel('/content/drive/MyDrive/PYTHON/TFM/MODELOS/00_Previo/TFM_VCF_train_02.xlsx')\n",
        "\n",
        "# Convertir las fechas a números ordinales\n",
        "df_football['Fecha'] = pd.to_datetime(df_football['Fecha']).map(pd.Timestamp.toordinal)\n",
        "\n",
        "# Eliminar la columna 'C/VM'\n",
        "df_football.drop(columns=['C/VM'], inplace=True)\n",
        "\n",
        "# Renombrar la columna 'VM (TM)' a 'VM_TM'\n",
        "df_football.rename(columns={'VM (TM)': 'VM_TM'}, inplace=True)\n",
        "\n",
        "# Reemplazar \"-\" con NaN y convertir a float\n",
        "numeric_columns = ['Elo (EO)', 'Elo (CO)', 'Partidos', 'VM_TM','Goles', 'Asistencias', 'Goles Concedidos', 'RDT']\n",
        "for column in numeric_columns:\n",
        "    df_football[column] = pd.to_numeric(df_football[column].replace(\"-\", \"0\"))\n",
        "\n",
        "# Asegurarse de que las columnas numéricas tengan el tipo de dato correcto\n",
        "df_football[numeric_columns] = df_football[numeric_columns].astype(float)\n",
        "\n",
        "# Definir los bins y las etiquetas para la clasificación\n",
        "bins = [0, 5, 10, 15, 20, 25, 35, 50, 70, float('inf')]\n",
        "labels = [9, 8, 7, 6, 5, 4, 3, 2, 1]\n",
        "\n",
        "# Crear la columna 'Clasificacion' usando pd.cut()\n",
        "df_football['Clasificacion'] = pd.cut(df_football['Coste'], bins=bins, labels=labels, right=False)\n",
        "\n",
        "# Normalizar características numéricas\n",
        "scaler = MinMaxScaler()\n",
        "df_football[numeric_columns] = scaler.fit_transform(df_football[numeric_columns])\n",
        "\n",
        "# Comprobar que todo está OK\n",
        "df_football.info()"
      ],
      "metadata": {
        "id": "0zW7-ePbbA4H",
        "colab": {
          "base_uri": "https://localhost:8080/"
        },
        "outputId": "a6b344c8-28f8-457e-8194-219a42419e50"
      },
      "execution_count": 2,
      "outputs": [
        {
          "output_type": "stream",
          "name": "stdout",
          "text": [
            "<class 'pandas.core.frame.DataFrame'>\n",
            "RangeIndex: 2288 entries, 0 to 2287\n",
            "Data columns (total 22 columns):\n",
            " #   Column               Non-Null Count  Dtype   \n",
            "---  ------               --------------  -----   \n",
            " 0   Jugador              2288 non-null   object  \n",
            " 1   Posición             2288 non-null   object  \n",
            " 2   Edad                 2288 non-null   int64   \n",
            " 3   Nacionalidad         2288 non-null   object  \n",
            " 4   Temporada            2288 non-null   object  \n",
            " 5   Fecha                2288 non-null   int64   \n",
            " 6   Coste                2288 non-null   float64 \n",
            " 7   VM_TM                2288 non-null   float64 \n",
            " 8   Equipo origen        2288 non-null   object  \n",
            " 9   Elo (EO)             2288 non-null   float64 \n",
            " 10  Equipo destino       2288 non-null   object  \n",
            " 11  Elo (ED)             2288 non-null   int64   \n",
            " 12  Competición origen   2288 non-null   object  \n",
            " 13  Elo (CO)             2288 non-null   float64 \n",
            " 14  Competición destino  2288 non-null   object  \n",
            " 15  Elo (CD)             2288 non-null   int64   \n",
            " 16  Partidos             2288 non-null   float64 \n",
            " 17  Goles                2288 non-null   float64 \n",
            " 18  Asistencias          2288 non-null   float64 \n",
            " 19  Goles Concedidos     2288 non-null   float64 \n",
            " 20  RDT                  2288 non-null   float64 \n",
            " 21  Clasificacion        2288 non-null   category\n",
            "dtypes: category(1), float64(9), int64(4), object(8)\n",
            "memory usage: 378.1+ KB\n"
          ]
        }
      ]
    },
    {
      "cell_type": "markdown",
      "source": [
        "LECTURA DEL EXCEL DE TEST Y PRE-PROCESADO EN MODELO DE CLASIFICACIÓN"
      ],
      "metadata": {
        "id": "cYHAGBP1yLId"
      }
    },
    {
      "cell_type": "code",
      "source": [
        "# Cargar datos desde el archivo Excel\n",
        "df_test = pd.read_excel('/content/drive/MyDrive/PYTHON/TFM/MODELOS/00_Previo/TFM_VCF_test_02.xlsx')\n",
        "\n",
        "# Convertir las fechas a números ordinales\n",
        "df_test['Fecha'] = pd.to_datetime(df_test['Fecha']).map(pd.Timestamp.toordinal)\n",
        "\n",
        "# Eliminar la columna 'C/VM'\n",
        "df_test.drop(columns=['C/VM'], inplace=True)\n",
        "\n",
        "# Renombrar la columna 'VM (TM)' a 'VM_TM'\n",
        "df_test.rename(columns={'VM (TM)': 'VM_TM'}, inplace=True)\n",
        "\n",
        "# Reemplazar \"-\" con NaN y convertir a float\n",
        "numeric_columns = ['Elo (EO)', 'Elo (CO)', 'Partidos', 'VM_TM','Goles', 'Asistencias', 'Goles Concedidos', 'RDT']\n",
        "for column in numeric_columns:\n",
        "    df_test[column] = pd.to_numeric(df_test[column].replace(\"-\", \"0\"))\n",
        "\n",
        "# Asegurarse de que las columnas numéricas tengan el tipo de dato correcto\n",
        "df_test[numeric_columns] = df_test[numeric_columns].astype(float)\n",
        "\n",
        "# Definir los bins y las etiquetas para la clasificación\n",
        "bins = [0, 5, 10, 15, 20, 25, 35, 50, 70, float('inf')]\n",
        "labels = [9, 8, 7, 6, 5, 4, 3, 2, 1]\n",
        "\n",
        "# Crear la columna 'Clasificacion' usando pd.cut()\n",
        "df_test['Clasificacion'] = pd.cut(df_test['Coste'], bins=bins, labels=labels, right=False)\n",
        "\n",
        "# Normalizar características numéricas\n",
        "scaler = MinMaxScaler()\n",
        "df_test[numeric_columns] = scaler.fit_transform(df_test[numeric_columns])\n",
        "\n",
        "# Comprobar que todo está OK\n",
        "df_test.info()"
      ],
      "metadata": {
        "colab": {
          "base_uri": "https://localhost:8080/"
        },
        "id": "FdG0VQOGNKl7",
        "outputId": "28e3d96a-e3fc-4043-aa95-c17755ac98a8"
      },
      "execution_count": 3,
      "outputs": [
        {
          "output_type": "stream",
          "name": "stdout",
          "text": [
            "<class 'pandas.core.frame.DataFrame'>\n",
            "RangeIndex: 525 entries, 0 to 524\n",
            "Data columns (total 22 columns):\n",
            " #   Column               Non-Null Count  Dtype   \n",
            "---  ------               --------------  -----   \n",
            " 0   Jugador              525 non-null    object  \n",
            " 1   Posición             525 non-null    object  \n",
            " 2   Edad                 525 non-null    int64   \n",
            " 3   Nacionalidad         525 non-null    object  \n",
            " 4   Temporada            525 non-null    object  \n",
            " 5   Fecha                525 non-null    int64   \n",
            " 6   Coste                525 non-null    float64 \n",
            " 7   VM_TM                525 non-null    float64 \n",
            " 8   Equipo origen        525 non-null    object  \n",
            " 9   Elo (EO)             525 non-null    float64 \n",
            " 10  Equipo destino       525 non-null    object  \n",
            " 11  Elo (ED)             525 non-null    int64   \n",
            " 12  Competición origen   525 non-null    object  \n",
            " 13  Elo (CO)             525 non-null    float64 \n",
            " 14  Competición destino  525 non-null    object  \n",
            " 15  Elo (CD)             525 non-null    int64   \n",
            " 16  Partidos             525 non-null    float64 \n",
            " 17  Goles                525 non-null    float64 \n",
            " 18  Asistencias          525 non-null    float64 \n",
            " 19  Goles Concedidos     525 non-null    float64 \n",
            " 20  RDT                  525 non-null    float64 \n",
            " 21  Clasificacion        525 non-null    category\n",
            "dtypes: category(1), float64(9), int64(4), object(8)\n",
            "memory usage: 87.1+ KB\n"
          ]
        }
      ]
    }
  ]
}